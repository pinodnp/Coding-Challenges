{
 "cells": [
  {
   "cell_type": "code",
   "execution_count": 25,
   "metadata": {},
   "outputs": [],
   "source": [
    "W = [2,2,38,2,2,34,12,6,2]\n",
    "     \n",
    "D = [[0,0,34,0,0,33,0,0,33,0],\n",
    "    [0,0,33,0,0,33,0,0,34,0],\n",
    "    [0,34,0,0,33,0,0,33,0,0],\n",
    "    [0,0,33,0,34,0,0,33,0,0]]\n",
    "\n",
    "A = [[33,33,34,0,0,0,0,0,0,0],\n",
    "    [0,33,34,33,0,0,0,0,0,0],\n",
    "    [0,0,34,33,33,0,0,0,0,0],\n",
    "    [10,20,40,20,10,0,0,0,0]]\n",
    "\n",
    "H = None"
   ]
  },
  {
   "cell_type": "code",
   "execution_count": 12,
   "metadata": {},
   "outputs": [
    {
     "data": {
      "text/plain": [
       "100"
      ]
     },
     "execution_count": 12,
     "metadata": {},
     "output_type": "execute_result"
    }
   ],
   "source": [
    "sum(B)"
   ]
  },
  {
   "cell_type": "code",
   "execution_count": 36,
   "metadata": {},
   "outputs": [],
   "source": [
    "print(\"Please input D if you want to test against Defensive strategies, A if oyu want to test against attacking strategies and O if you want to test overall\")\n",
    "O = [[33,33,34,0,0,0,0,0,0,0],\n",
    "     [0,0,34,0,0,33,0,0,33,0],\n",
    "     [0,0,33,0,0,33,0,0,34,0],\n",
    "     [0,34,0,0,33,0,0,33,0,0],\n",
    "     [0,0,33,0,34,0,0,33,0,0],\n",
    "     [0,33,34,33,0,0,0,0,0,0],\n",
    "     [0,0,34,33,33,0,0,0,0,0],\n",
    "     [10,20,40,20,10,0,0,0,0]]\n",
    "\n",
    "B = [2,2,38,2,2,34,12,6,2]\n",
    "     \n",
    "\n",
    "my_list_of_scores = []\n",
    "\n",
    "for item in O:\n",
    "    my_score = 0\n",
    "    counter_enemy = 0\n",
    "    counter_me = 0\n",
    "    for i in range(0,9):\n",
    "        if B[i]>item[i]:\n",
    "            my_score = my_score + i + 1\n",
    "            counter_me += 1\n",
    "            if counter_me == 3:\n",
    "                my_score = my_score + sum(range(i, 10))\n",
    "\n",
    "            if counter_enemy == 3:\n",
    "                break\n",
    "\n",
    "        elif B[i]<item[i]:\n",
    "            counter_enemy += 1\n",
    "        \n",
    "my_list_of_scores.append(my_score)   \n",
    "avg_score = sum(my_list_of_scores)/len(my_list_of_scores) \n",
    "                                      \n",
    "                                      "
   ]
  },
  {
   "cell_type": "code",
   "execution_count": 37,
   "metadata": {},
   "outputs": [
    {
     "data": {
      "text/plain": [
       "54.0"
      ]
     },
     "execution_count": 37,
     "metadata": {},
     "output_type": "execute_result"
    }
   ],
   "source": [
    "avg_score"
   ]
  },
  {
   "cell_type": "code",
   "execution_count": null,
   "metadata": {},
   "outputs": [],
   "source": []
  }
 ],
 "metadata": {
  "kernelspec": {
   "display_name": "Python 3",
   "language": "python",
   "name": "python3"
  },
  "language_info": {
   "codemirror_mode": {
    "name": "ipython",
    "version": 3
   },
   "file_extension": ".py",
   "mimetype": "text/x-python",
   "name": "python",
   "nbconvert_exporter": "python",
   "pygments_lexer": "ipython3",
   "version": "3.7.4"
  }
 },
 "nbformat": 4,
 "nbformat_minor": 2
}
