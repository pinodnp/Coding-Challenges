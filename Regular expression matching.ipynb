{
 "cells": [
  {
   "cell_type": "code",
   "execution_count": 67,
   "metadata": {},
   "outputs": [],
   "source": [
    "def isMatch(s,p):\n",
    "    my_s=[]\n",
    "    my_p=[]\n",
    "    \n",
    "    \n",
    "    for index, letter in enumerate(s):\n",
    "        my_s.append(letter)\n",
    "    for index, letter in enumerate(p):\n",
    "        my_p.append(letter)\n",
    "         \n",
    "            \n",
    "    print(my_s)\n",
    "    print(my_p)\n",
    "        \n",
    "    if len(my_s)==len(my_p):\n",
    "        for i in range(1, len(my_s)):\n",
    "                \n",
    "            if my_s[i-1]==my_p[i-1]:\n",
    "                continue\n",
    "            elif my_p[i-1]==\".\":\n",
    "                continue\n",
    "            elif my_p[i-1]==my_s[i] and my_p[i]==\"*\":\n",
    "                continue\n",
    "            else:\n",
    "                return False\n",
    "                break\n",
    "    elif \".*\" in p:\n",
    "        return True\n",
    "    else:\n",
    "        return False"
   ]
  },
  {
   "cell_type": "code",
   "execution_count": 83,
   "metadata": {},
   "outputs": [],
   "source": [
    "def ItisMatch(s,p):\n",
    "    if s==p:\n",
    "        return True\n",
    "    elif p==\".*\":\n",
    "        return True\n",
    "    \n",
    "    elif len(s)!=len(p):\n",
    "        if p==\".*\":\n",
    "            return True\n",
    "        for i in range(1, len(s)):\n",
    "            if p[i-1]==s[i] and p[i]==\"*\":\n",
    "                return True\n",
    "        else:\n",
    "            return False\n",
    "    else:\n",
    "        return False"
   ]
  },
  {
   "cell_type": "code",
   "execution_count": 68,
   "metadata": {},
   "outputs": [
    {
     "name": "stdout",
     "output_type": "stream",
     "text": [
      "['a', 'a']\n",
      "['a', '*']\n"
     ]
    }
   ],
   "source": [
    "isMatch (\"aa\", \"a*\")"
   ]
  },
  {
   "cell_type": "code",
   "execution_count": 60,
   "metadata": {},
   "outputs": [
    {
     "name": "stdout",
     "output_type": "stream",
     "text": [
      "2\n"
     ]
    }
   ],
   "source": [
    "print(len(\"a*\"))"
   ]
  },
  {
   "cell_type": "code",
   "execution_count": 84,
   "metadata": {},
   "outputs": [
    {
     "data": {
      "text/plain": [
       "False"
      ]
     },
     "execution_count": 84,
     "metadata": {},
     "output_type": "execute_result"
    }
   ],
   "source": [
    "ItisMatch(\"a\", \"a*\")"
   ]
  },
  {
   "cell_type": "code",
   "execution_count": 77,
   "metadata": {},
   "outputs": [
    {
     "data": {
      "text/plain": [
       "2"
      ]
     },
     "execution_count": 77,
     "metadata": {},
     "output_type": "execute_result"
    }
   ],
   "source": [
    "len(\".*\")"
   ]
  },
  {
   "cell_type": "code",
   "execution_count": 78,
   "metadata": {},
   "outputs": [
    {
     "data": {
      "text/plain": [
       "2"
      ]
     },
     "execution_count": 78,
     "metadata": {},
     "output_type": "execute_result"
    }
   ],
   "source": [
    "len(\"aa\")"
   ]
  },
  {
   "cell_type": "code",
   "execution_count": 128,
   "metadata": {},
   "outputs": [],
   "source": [
    "def ThisisMatch(s,p):\n",
    "   \n",
    "    new_p=[]\n",
    "\n",
    "    for i in range(1,len(p)):\n",
    "        if p[i-1]==s[i-1]:\n",
    "            new_p.append(p[i-1])\n",
    "        if p[i]==\"*\":\n",
    "            #new_p=p.replace(\"*\", p[i-1])\n",
    "            new_p.append(p[i-1]*(len(s)-i))\n",
    "            continue\n",
    "        if p[i-1]==\".\":\n",
    "            new_p.append(s[i-1])\n",
    "            continue\n",
    "        else:\n",
    "            new_p.append(p[i-1])\n",
    "        \n",
    "            \n",
    "    print(s, new_p)\n",
    "    \n",
    "    if s==new_p:\n",
    "        return True\n",
    "    else:\n",
    "        return False\n",
    "            \n",
    "    "
   ]
  },
  {
   "cell_type": "code",
   "execution_count": 129,
   "metadata": {},
   "outputs": [
    {
     "name": "stdout",
     "output_type": "stream",
     "text": [
      "aaaaaaa ['a', 'aaaaaa']\n"
     ]
    },
    {
     "data": {
      "text/plain": [
       "False"
      ]
     },
     "execution_count": 129,
     "metadata": {},
     "output_type": "execute_result"
    }
   ],
   "source": [
    "ThisisMatch(\"aaaaaaa\", \"a*\")"
   ]
  },
  {
   "cell_type": "code",
   "execution_count": null,
   "metadata": {},
   "outputs": [],
   "source": []
  }
 ],
 "metadata": {
  "kernelspec": {
   "display_name": "Python 3",
   "language": "python",
   "name": "python3"
  },
  "language_info": {
   "codemirror_mode": {
    "name": "ipython",
    "version": 3
   },
   "file_extension": ".py",
   "mimetype": "text/x-python",
   "name": "python",
   "nbconvert_exporter": "python",
   "pygments_lexer": "ipython3",
   "version": "3.7.4"
  }
 },
 "nbformat": 4,
 "nbformat_minor": 2
}
