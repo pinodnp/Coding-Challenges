{
 "cells": [
  {
   "cell_type": "code",
   "execution_count": 39,
   "metadata": {},
   "outputs": [],
   "source": [
    "#53%, fails in performance\n",
    "def solution(A):\n",
    "    # write your code in Python 3.6\n",
    "    lst=[]\n",
    "    if len(A)==2:\n",
    "        return abs(A[0]-A[1])\n",
    "    else:    \n",
    "        for i in range(1, len(A)):\n",
    "            lst.append(abs(sum(A[:i])-sum(A[i:]))) \n",
    "        return min(lst)"
   ]
  },
  {
   "cell_type": "code",
   "execution_count": 40,
   "metadata": {},
   "outputs": [
    {
     "data": {
      "text/plain": [
       "1"
      ]
     },
     "execution_count": 40,
     "metadata": {},
     "output_type": "execute_result"
    }
   ],
   "source": [
    "solution([2,3,1,2,7])"
   ]
  },
  {
   "cell_type": "code",
   "execution_count": 4,
   "metadata": {},
   "outputs": [],
   "source": [
    "def solution_good(A):\n",
    "    sum_left=A[0]\n",
    "    sum_right= sum(A)-A[0]\n",
    "    diff=abs(sum_left-sum_right)\n",
    "    for i in range(1, len(A)-1):\n",
    "        sum_left += A[i]\n",
    "        sum_right -= A[i]\n",
    "        current_diff =abs(sum_left-sum_right)\n",
    "        if diff>current_diff:\n",
    "            diff =current_diff\n",
    "    return diff\n",
    "        \n",
    "        "
   ]
  },
  {
   "cell_type": "code",
   "execution_count": 5,
   "metadata": {},
   "outputs": [
    {
     "data": {
      "text/plain": [
       "1"
      ]
     },
     "execution_count": 5,
     "metadata": {},
     "output_type": "execute_result"
    }
   ],
   "source": [
    "solution_good([2,3,1,2,7])"
   ]
  },
  {
   "cell_type": "code",
   "execution_count": null,
   "metadata": {},
   "outputs": [],
   "source": []
  }
 ],
 "metadata": {
  "kernelspec": {
   "display_name": "Python 3",
   "language": "python",
   "name": "python3"
  },
  "language_info": {
   "codemirror_mode": {
    "name": "ipython",
    "version": 3
   },
   "file_extension": ".py",
   "mimetype": "text/x-python",
   "name": "python",
   "nbconvert_exporter": "python",
   "pygments_lexer": "ipython3",
   "version": "3.7.4"
  }
 },
 "nbformat": 4,
 "nbformat_minor": 2
}
