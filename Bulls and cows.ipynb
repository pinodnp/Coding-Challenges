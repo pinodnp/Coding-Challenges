{
 "cells": [
  {
   "cell_type": "markdown",
   "metadata": {},
   "source": [
    "You are playing the following Bulls and Cows game with your friend: You write down a number and ask your friend to guess what the number is. Each time your friend makes a guess, you provide a hint that indicates how many digits in said guess match your secret number exactly in both digit and position (called \"bulls\") and how many digits match the secret number but locate in the wrong position (called \"cows\"). Your friend will use successive guesses and hints to eventually derive the secret number.\n",
    "\n",
    "Write a function to return a hint according to the secret number and friend's guess, use A to indicate the bulls and B to indicate the cows. \n",
    "\n",
    "Please note that both secret number and friend's guess may contain duplicate digits.\n",
    "\n",
    "Note: You may assume that the secret number and your friend's guess only contain digits, and their lengths are always equal."
   ]
  },
  {
   "cell_type": "code",
   "execution_count": 102,
   "metadata": {},
   "outputs": [],
   "source": [
    "#Didn't work but would have been more efficient\n",
    "def getHint(secret, guess):\n",
    "    countB = 0\n",
    "    countC = 0\n",
    "    s = []\n",
    "    g = []\n",
    "    \n",
    "    for i in range(len(secret)):\n",
    "        if secret[i] == guess[i]:\n",
    "            if secret[i] in s and countC>0 and guess.count(guess[i])<2:\n",
    "                countC -=1\n",
    "                countB +=1\n",
    "                print(secret[i])\n",
    "                print(\"yay\")\n",
    "                print(secret[i], guess[i])\n",
    "                s.append(secret[i])\n",
    "                print(secret, guess, s)\n",
    "            else:\n",
    "                countB +=1\n",
    "                s.append(secret[i])\n",
    "                print(secret[i])\n",
    "                print(\"woho\")\n",
    "                print(secret, guess, s)\n",
    "        else:\n",
    "            print(secret [i])\n",
    "            if secret[i] in guess:\n",
    "                if secret[i] in s and guess.count(secret[i])>1:\n",
    "                    countC +=1\n",
    "                    print(secret[i], guess[i])\n",
    "                    print(\"Nay\")\n",
    "                    s.append(secret[i])\n",
    "                    g.append(guess[i])\n",
    "                    print(secret, guess, s)\n",
    "                if secret[i] not in s:\n",
    "                    countC +=1\n",
    "                    print(secret[i], guess[i])\n",
    "                    print(\"lol\")\n",
    "                    s.append(secret[i])\n",
    "                    g.append(guess[i])\n",
    "                    print(secret, guess, s)\n",
    "\n",
    "                \n",
    "    return str(str(countB) + \"A\"+ str(countC) + \"B\")"
   ]
  },
  {
   "cell_type": "code",
   "execution_count": 125,
   "metadata": {},
   "outputs": [],
   "source": [
    "#Works fine but not super efficient\n",
    "def getHint(secret, guess):\n",
    "    countB = 0\n",
    "    countC = 0\n",
    "    s = []\n",
    "    g = []\n",
    "    for i in range(len(secret)):\n",
    "        if secret[i]==guess[i]:\n",
    "            countB +=1\n",
    "        else:\n",
    "            g.append(guess[i])\n",
    "            s.append(secret[i])\n",
    "            continue\n",
    " \n",
    "    \n",
    "    for k in range(len(s)):\n",
    "        if g[k] in s:\n",
    "            countC+=1\n",
    "            s.remove(g[k])\n",
    "            \n",
    "            \n",
    "    return str(str(countB) + \"A\"+ str(countC) + \"B\")\n",
    "    \n",
    "    \n",
    "        "
   ]
  },
  {
   "cell_type": "code",
   "execution_count": 126,
   "metadata": {},
   "outputs": [
    {
     "data": {
      "text/plain": [
       "'1A0B'"
      ]
     },
     "execution_count": 126,
     "metadata": {},
     "output_type": "execute_result"
    }
   ],
   "source": [
    "secret = \"11\"\n",
    "\n",
    "guess = \"10\"\n",
    "\n",
    "getHint(secret, guess)"
   ]
  }
 ],
 "metadata": {
  "kernelspec": {
   "display_name": "Python 3",
   "language": "python",
   "name": "python3"
  },
  "language_info": {
   "codemirror_mode": {
    "name": "ipython",
    "version": 3
   },
   "file_extension": ".py",
   "mimetype": "text/x-python",
   "name": "python",
   "nbconvert_exporter": "python",
   "pygments_lexer": "ipython3",
   "version": "3.7.4"
  }
 },
 "nbformat": 4,
 "nbformat_minor": 2
}
