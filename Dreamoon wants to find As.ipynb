{
 "cells": [
  {
   "cell_type": "code",
   "execution_count": 128,
   "metadata": {},
   "outputs": [],
   "source": [
    "def Dreamoon(word):\n",
    "    mylist=[]\n",
    "    mynewlist=[]\n",
    "     \n",
    "    for index, item in enumerate(word):\n",
    "        print(index, item)\n",
    "        if item==\"A\":\n",
    "            mylist.append(index)\n",
    "        else:\n",
    "            continue\n",
    "    print(mylist)\n",
    "    \n",
    "    for i in range(1, len(mylist)):\n",
    "        mynewlist.append(mylist[i]-mylist[i-1])\n",
    "    print(mynewlist)\n",
    "    \n",
    "    print(min(mynewlist), max(mynewlist))\n",
    "    \n",
    "    balance_degree =(max(mynewlist)-min(mynewlist))\n",
    "    \n",
    "    print(balance_degree)\n",
    "    "
   ]
  },
  {
   "cell_type": "code",
   "execution_count": 129,
   "metadata": {
    "scrolled": true
   },
   "outputs": [
    {
     "name": "stdout",
     "output_type": "stream",
     "text": [
      "0 A\n",
      "1 A\n",
      "2 A\n",
      "3 A\n",
      "4 A\n",
      "5 A\n",
      "6 A\n",
      "7 A\n",
      "8 A\n",
      "9 B\n",
      "10 B\n",
      "11 B\n",
      "12 B\n",
      "13 B\n",
      "14 B\n",
      "15 B\n",
      "16 B\n",
      "17 B\n",
      "18 B\n",
      "19 C\n",
      "20 C\n",
      "21 C\n",
      "22 C\n",
      "23 C\n",
      "24 C\n",
      "25 C\n",
      "26 A\n",
      "27 B\n",
      "28 B\n",
      "29 B\n",
      "30 B\n",
      "31 B\n",
      "32 B\n",
      "33 B\n",
      "34 B\n",
      "35 B\n",
      "36 B\n",
      "37 B\n",
      "38 B\n",
      "39 B\n",
      "40 B\n",
      "41 B\n",
      "42 B\n",
      "43 A\n",
      "[0, 1, 2, 3, 4, 5, 6, 7, 8, 26, 43]\n",
      "[1, 1, 1, 1, 1, 1, 1, 1, 18, 17]\n",
      "1 18\n",
      "17\n"
     ]
    }
   ],
   "source": [
    "Dreamoon(\"AAAAAAAAABBBBBBBBBBCCCCCCCABBBBBBBBBBBBBBBBA\")"
   ]
  },
  {
   "cell_type": "raw",
   "metadata": {},
   "source": [
    "def Dreamoon_advanced(t,n,m,k):\n",
    "    "
   ]
  }
 ],
 "metadata": {
  "kernelspec": {
   "display_name": "Python 3",
   "language": "python",
   "name": "python3"
  },
  "language_info": {
   "codemirror_mode": {
    "name": "ipython",
    "version": 3
   },
   "file_extension": ".py",
   "mimetype": "text/x-python",
   "name": "python",
   "nbconvert_exporter": "python",
   "pygments_lexer": "ipython3",
   "version": "3.7.4"
  }
 },
 "nbformat": 4,
 "nbformat_minor": 2
}
